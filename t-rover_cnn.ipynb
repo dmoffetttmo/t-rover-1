{
 "cells": [
  {
   "cell_type": "code",
   "execution_count": null,
   "metadata": {
    "collapsed": true
   },
   "outputs": [],
   "source": [
    "import cv2\n",
    "import numpy as np\n",
    "from PIL import Image\n",
    "import glob\n",
    "import pandas as pd\n",
    "from sklearn.model_selection import train_test_split\n",
    "import math\n",
    "from sklearn import preprocessing"
   ]
  },
  {
   "cell_type": "code",
   "execution_count": null,
   "metadata": {
    "collapsed": true
   },
   "outputs": [],
   "source": [
    "camera_records = glob.glob('images/camera_*.yuv')"
   ]
  },
  {
   "cell_type": "code",
   "execution_count": null,
   "metadata": {
    "collapsed": true
   },
   "outputs": [],
   "source": [
    "def write_yuv_to_jpg(yuv_path, folder, w, h):\n",
    "    # Read entire file into YUV\n",
    "    YUV = np.fromfile(yuv_path,dtype='uint8')\n",
    "    Y = YUV[0:w*h].reshape(h,w)\n",
    "    im = Image.fromarray(Y)\n",
    "    file_name = yuv_path.split('/')[1].split('.yuv')[0]\n",
    "    im.save(folder + '/' + file_name + '.jpg')\n",
    "    "
   ]
  },
  {
   "cell_type": "code",
   "execution_count": null,
   "metadata": {
    "collapsed": true
   },
   "outputs": [],
   "source": [
    "def read_yuv_to_arr(yuv_path, w, h):\n",
    "    YUV = np.fromfile(yuv_path,dtype='uint8')\n",
    "    Y = YUV[0:w*h].reshape(h,w)\n",
    "    return Y"
   ]
  },
  {
   "cell_type": "code",
   "execution_count": null,
   "metadata": {
    "collapsed": true
   },
   "outputs": [],
   "source": [
    "# # one time converstion from yuv to jpg\n",
    "# for record in camera_records:\n",
    "#     write_yuv_to_jpg(record, 'images', 256, 154)"
   ]
  },
  {
   "cell_type": "code",
   "execution_count": null,
   "metadata": {
    "collapsed": true
   },
   "outputs": [],
   "source": [
    "control_records = glob.glob('images/control_*.txt')"
   ]
  },
  {
   "cell_type": "code",
   "execution_count": null,
   "metadata": {
    "collapsed": true
   },
   "outputs": [],
   "source": [
    "tmp_records = [record.split('_', 1)[1] for record in control_records]\n",
    "time_stamps = [record.split('.txt', 1)[0] for record in tmp_records]\n",
    "control_time_stamps = list(map(float, time_stamps))"
   ]
  },
  {
   "cell_type": "code",
   "execution_count": null,
   "metadata": {
    "collapsed": true
   },
   "outputs": [],
   "source": [
    "def find_nearest(array,value):\n",
    "    idx = np.searchsorted(array, value, side=\"left\")\n",
    "    if idx > 0 and (idx == len(array) or math.fabs(value - array[idx-1]) < math.fabs(value - array[idx])):\n",
    "        return array[idx-1]\n",
    "    else:\n",
    "        return array[idx]"
   ]
  },
  {
   "cell_type": "code",
   "execution_count": null,
   "metadata": {
    "collapsed": true
   },
   "outputs": [],
   "source": [
    "sorted_control_time_stamps = np.sort(control_time_stamps)"
   ]
  },
  {
   "cell_type": "code",
   "execution_count": null,
   "metadata": {
    "collapsed": true
   },
   "outputs": [],
   "source": [
    "steers = []\n",
    "accs = []\n",
    "imgs = []\n",
    "for record in camera_records:\n",
    "    camera_time_stamp = float(record.split('_', 1)[1].split('.yuv', 1)[0])\n",
    "    control_time_stamp = find_nearest(sorted_control_time_stamps, camera_time_stamp)\n",
    "    path = 'images/control_' + str(control_time_stamp) + '.txt'\n",
    "    with open(path) as control_file:\n",
    "        control_str = control_file.readline()\n",
    "        steer = int(control_str.split('x')[0].split('s')[1])\n",
    "        acc = int(control_str.split('x')[1].split('a')[1])\n",
    "        steers = np.append(steers, steer)\n",
    "        accs = np.append(accs, acc)\n",
    "        imgs = np.append(imgs, record.split('/', 1)[1].split('.yuv')[0] + '.jpg')"
   ]
  },
  {
   "cell_type": "code",
   "execution_count": null,
   "metadata": {
    "collapsed": true
   },
   "outputs": [],
   "source": [
    "df = pd.DataFrame()\n",
    "df['file_name'] = imgs\n",
    "df['throttle'] = accs\n",
    "df['angle'] = steers"
   ]
  },
  {
   "cell_type": "code",
   "execution_count": null,
   "metadata": {},
   "outputs": [],
   "source": [
    "df.shape"
   ]
  },
  {
   "cell_type": "code",
   "execution_count": null,
   "metadata": {
    "collapsed": true
   },
   "outputs": [],
   "source": [
    "# only using throttle over or equal 1500 to filter out unexpected stoppings along the track\n",
    "df = df.loc[df['throttle'] >= 1500]\n"
   ]
  },
  {
   "cell_type": "code",
   "execution_count": null,
   "metadata": {},
   "outputs": [],
   "source": [
    "df.shape"
   ]
  },
  {
   "cell_type": "code",
   "execution_count": null,
   "metadata": {
    "collapsed": true
   },
   "outputs": [],
   "source": [
    "# normalize the steering and angle\n",
    "df['throttle'] = (df['throttle'] - 1400) / (1800 - 1400)\n",
    "df['angle'] = (df['angle'] - 60) / (140 - 60)"
   ]
  },
  {
   "cell_type": "code",
   "execution_count": null,
   "metadata": {
    "collapsed": true
   },
   "outputs": [],
   "source": [
    "df_train, df_val = train_test_split(df, test_size=0.2)"
   ]
  },
  {
   "cell_type": "code",
   "execution_count": null,
   "metadata": {},
   "outputs": [],
   "source": [
    "from keras.preprocessing.image import ImageDataGenerator\n",
    "\n",
    "image_loader = ImageDataGenerator()\n",
    "\n",
    "train_generator = image_loader.flow_from_dataframe(dataframe=df_train, directory=\"images\", x_col='file_name', y_col=['throttle', 'angle'], target_size=(154, 256), color_mode='grayscale', class_mode='other', batch_size=32)\n",
    "\n",
    "val_generator = image_loader.flow_from_dataframe(dataframe=df_val, directory='images', x_col='file_name', y_col=['throttle', 'angle'], target_size=(154, 256), color_mode='grayscale', class_mode='other', batch_size=32)\n"
   ]
  },
  {
   "cell_type": "code",
   "execution_count": null,
   "metadata": {
    "collapsed": true
   },
   "outputs": [],
   "source": [
    "from keras import Sequential\n",
    "from keras.layers import Input, Cropping2D, Dense\n",
    "from keras.layers import Dropout\n",
    "from keras.layers import Convolution2D, Flatten\n",
    "from keras.layers import BatchNormalization\n",
    "from keras import Model"
   ]
  },
  {
   "cell_type": "code",
   "execution_count": null,
   "metadata": {
    "collapsed": true
   },
   "outputs": [],
   "source": [
    "def build_CNN(num_outputs, input_shape=(154, 256, 1), roi_crop=(0, 0)):\n",
    "\n",
    "    drop = 0.1\n",
    "    \n",
    "    img_in = Input(shape=input_shape, name='img_in')\n",
    "    x = img_in\n",
    "    x = Cropping2D(cropping=(roi_crop, (0,0)))(x) #trim pixels off top and bottom\n",
    "\n",
    "    x = BatchNormalization()(x)\n",
    "    x = Convolution2D(24, (5,5), strides=(2,2), activation='relu', name=\"conv2d_1\")(x)\n",
    "    x = Dropout(drop)(x)\n",
    "    x = Convolution2D(32, (5,5), strides=(2,2), activation='relu', name=\"conv2d_2\")(x)\n",
    "    x = Dropout(drop)(x)\n",
    "    x = Convolution2D(64, (5,5), strides=(2,2), activation='relu', name=\"conv2d_3\")(x)\n",
    "    x = Dropout(drop)(x)\n",
    "    x = Convolution2D(64, (3,3), strides=(1,1), activation='relu', name=\"conv2d_4\")(x)\n",
    "    x = Dropout(drop)(x)\n",
    "    x = Convolution2D(64, (3,3), strides=(1,1), activation='relu', name=\"conv2d_5\")(x)\n",
    "    x = Dropout(drop)(x)\n",
    "    \n",
    "    x = Flatten(name='flattened')(x)\n",
    "    x = Dense(100, activation='relu')(x)\n",
    "    x = Dropout(drop)(x)\n",
    "    x = Dense(50, activation='relu')(x)\n",
    "    x = Dropout(drop)(x)\n",
    "\n",
    "    # regression model with linear activation\n",
    "    outputs = Dense(num_outputs, activation='linear', name='n_outputs')(x)\n",
    "        \n",
    "    model = Model(inputs=[img_in], outputs=outputs)\n",
    "    \n",
    "    return model"
   ]
  },
  {
   "cell_type": "code",
   "execution_count": null,
   "metadata": {
    "collapsed": true
   },
   "outputs": [],
   "source": [
    "model = build_CNN(num_outputs = 2)"
   ]
  },
  {
   "cell_type": "code",
   "execution_count": null,
   "metadata": {
    "collapsed": true
   },
   "outputs": [],
   "source": [
    "model.compile(optimizer = 'adam', loss = 'mean_squared_error')\n"
   ]
  },
  {
   "cell_type": "code",
   "execution_count": null,
   "metadata": {},
   "outputs": [],
   "source": [
    "history = model.fit_generator(generator=train_generator,\n",
    "                    steps_per_epoch=100,\n",
    "                    validation_data=val_generator,\n",
    "                    validation_steps=20,\n",
    "                    epochs=5)"
   ]
  },
  {
   "cell_type": "code",
   "execution_count": null,
   "metadata": {
    "collapsed": true
   },
   "outputs": [],
   "source": [
    "model.save('models/model-cnn.h5')"
   ]
  },
  {
   "cell_type": "code",
   "execution_count": null,
   "metadata": {
    "collapsed": true
   },
   "outputs": [],
   "source": [
    "pyplot.title('Loss / Mean Squared Error')\n",
    "pyplot.plot(history.history['loss'], label='train')\n",
    "pyplot.plot(history.history['val_loss'], label='test')\n",
    "pyplot.legend()\n",
    "pyplot.show()"
   ]
  },
  {
   "cell_type": "code",
   "execution_count": null,
   "metadata": {},
   "outputs": [],
   "source": [
    "im_arr = read_yuv_to_arr('images/camera_1562107676.89651.yuv', 256, 154)\n",
    "im_arr = np.reshape(im_arr,[1,154,256,1])"
   ]
  },
  {
   "cell_type": "code",
   "execution_count": null,
   "metadata": {},
   "outputs": [],
   "source": [
    "im_arr.shape"
   ]
  },
  {
   "cell_type": "code",
   "execution_count": null,
   "metadata": {},
   "outputs": [],
   "source": [
    "from keras.models import load_model\n",
    "model = load_model('models/model.h5')"
   ]
  },
  {
   "cell_type": "code",
   "execution_count": null,
   "metadata": {
    "collapsed": true
   },
   "outputs": [],
   "source": [
    "arr = model.predict(im_arr)"
   ]
  },
  {
   "cell_type": "code",
   "execution_count": null,
   "metadata": {},
   "outputs": [],
   "source": [
    "arr[0][1]"
   ]
  },
  {
   "cell_type": "code",
   "execution_count": null,
   "metadata": {
    "collapsed": true
   },
   "outputs": [],
   "source": []
  }
 ],
 "metadata": {
  "kernelspec": {
   "display_name": "Python3.6 (myenv1)",
   "language": "python",
   "name": "python3"
  },
  "language_info": {
   "codemirror_mode": {
    "name": "ipython",
    "version": 3
   },
   "file_extension": ".py",
   "mimetype": "text/x-python",
   "name": "python",
   "nbconvert_exporter": "python",
   "pygments_lexer": "ipython3",
   "version": "3.6.5"
  }
 },
 "nbformat": 4,
 "nbformat_minor": 2
}
